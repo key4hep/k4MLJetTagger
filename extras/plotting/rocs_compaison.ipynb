{
 "cells": [
  {
   "cell_type": "markdown",
   "metadata": {},
   "source": [
    "# ROC curves\n",
    "\n",
    "This is a dummy notebook to create roc curves and compare two tagging performances with each other loading the results from a root file which was created with a steering file like `writeJetTags.py`"
   ]
  },
  {
   "cell_type": "code",
   "execution_count": null,
   "metadata": {},
   "outputs": [],
   "source": [
    "import uproot \n",
    "import numpy as np\n",
    "import matplotlib.pyplot as plt\n",
    "\n",
    "from helper_rocs import *\n",
    "\n",
    "%load_ext autoreload\n",
    "%autoreload 2"
   ]
  },
  {
   "cell_type": "code",
   "execution_count": null,
   "metadata": {},
   "outputs": [],
   "source": [
    "save_status = False"
   ]
  },
  {
   "cell_type": "code",
   "execution_count": null,
   "metadata": {},
   "outputs": [],
   "source": [
    "# performance of the tagger in my manual implementation\n",
    "path1 = \"/afs/cern.ch/work/s/saaumill/public/tagging_performance/FCCnote/fullsimCLD240_2mio.root\"\n",
    "data1 = load_data(path1, key='Events;1')"
   ]
  },
  {
   "cell_type": "code",
   "execution_count": null,
   "metadata": {},
   "outputs": [],
   "source": [
    "# performance of the tagger with key4hep inference\n",
    "path2 = \"/eos/experiment/fcc/ee/datasets/CLD_fullsim_tagging_results_key4hep/hadded/results_key4hep.root\"\n",
    "data2 = load_data(path2)"
   ]
  },
  {
   "cell_type": "code",
   "execution_count": null,
   "metadata": {},
   "outputs": [],
   "source": [
    "all_rocs(data1, data2, 'FullSim CLD', 'from key4hep', save=save_status, name='roc-key4hep-check')"
   ]
  },
  {
   "cell_type": "code",
   "execution_count": null,
   "metadata": {},
   "outputs": [],
   "source": [
    "dic_non_bi = {\"b\": [\"c\", \"b\", \"g\"], \"c\": [\"c\", \"b\", \"g\"], \"s\": [\"ud\", \"g\", \"s\"], \"g\": [\"ud\", \"b\", \"g\"]}"
   ]
  },
  {
   "cell_type": "code",
   "execution_count": null,
   "metadata": {},
   "outputs": [],
   "source": [
    "dic_xlim = {\"b\": None, \"c\": [-5, 4], \"s\": [-3.5, 2], \"g\": [-4.5, 2]}\n",
    "non_binary_disc(data1, data2, dic_non_bi, 'FullSim CLD', 'from key4hep', dic_xlim, save=save_status, name=\"discrim-non-bi_key4hep-check\", lax=0)"
   ]
  }
 ],
 "metadata": {
  "kernelspec": {
   "display_name": "mlvenv",
   "language": "python",
   "name": "mlvenv"
  }
 },
 "nbformat": 4,
 "nbformat_minor": 2
}
